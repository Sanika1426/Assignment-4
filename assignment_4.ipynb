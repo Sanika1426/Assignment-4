{
  "nbformat": 4,
  "nbformat_minor": 0,
  "metadata": {
    "colab": {
      "provenance": []
    },
    "kernelspec": {
      "name": "python3",
      "display_name": "Python 3"
    },
    "language_info": {
      "name": "python"
    }
  },
  "cells": [
    {
      "cell_type": "markdown",
      "source": [
        "## **Theory questions**\n",
        "1. What is Object-Oriented Programming OOP?\n",
        " -  Object-Oriented Programming (OOP) is a programming style that organizes code using objects, which are instances of classes. It helps structure programs by bundling data (attributes) and behavior (methods) together.\n",
        "\n",
        "2. What is a class in OOP?\n",
        " - A class in Object-Oriented Programming (OOP) is a blueprint or template used to create objects.\n",
        "\n",
        "3. What is an object in OOP?\n",
        " - An object in Object-Oriented Programming (OOP) is an instance of a class. It represents a real-world entity with data (attributes) and behavior (methods).\n",
        "\n",
        "4. What is the difference between abstraction and encapsulation?\n",
        " - Abstraction:\n",
        "   Focus: Hiding complex implementation details and showing only the essential features.\n",
        "\n",
        "  - Purpose: To reduce complexity by hiding the \"how\" and exposing only the \"what\".\n",
        "\n",
        "   - Example: When you drive a car, you use the steering wheel and pedals without knowing how the engine works.\n",
        "  \n",
        "   - Encapsulation:\n",
        "  Focus: Bundling data and methods that operate on the data into a single unit (class), and restricting access to parts of the object.\n",
        "\n",
        "   - Purpose: To protect data from unauthorized access or modification.\n",
        "\n",
        "   - Example: A class with private variables and public getter/setter methods to control access to the data.\n",
        "\n",
        "5. What are dunder methods in Python?\n",
        " - Dunder methods in Python (short for \"double underscore\" methods) are special built-in methods with names that start and end with double underscores like __init__, __str__, __len__, etc.\n",
        "\n",
        "6. Explain the concept of inheritance in OOPH  \n",
        " - Inheritance is a key concept in OOP that allows a class (child/subclass) to inherit properties and behaviors (methods and variables) from another class (parent/superclass).\n",
        "\n",
        "7. What is polymorphism in OOP?\n",
        " - Polymorphism means \"many forms\". In Object-Oriented Programming (OOP), it allows objects of different classes to be treated as objects of a common superclass, usually by overriding methods or using the same method name with different behaviors.\n",
        "\n",
        "8. How is encapsulation achieved in Python?\n",
        " - Encapsulation in Python is achieved by restricting direct access to the internal data (variables) of a class and providing controlled access through methods.\n",
        "\n",
        "9. What is a constructor in Python?\n",
        " - A constructor in Python is a special method used to initialize a new object when it is created from a clas.\n",
        "\n",
        "10. What are class and static methods in Python ?\n",
        " - In Python, both class methods and static methods are special types of methods that behave differently from regular instance methods.\n",
        "\n",
        "11. What is method overloading in Python?\n",
        "  - Method Overloading means defining multiple methods with the same name but different parameters (number or type), so the method behaves differently based on the arguments.\n",
        "\n",
        "12. What is method overriding in OOP?  \n",
        " -  Method overriding is an OOP feature where a subclass provides its own version of a method that is already defined in its parent class.\n",
        "\n",
        "13. What is a property decorator in Python?\n",
        " - The property decorator in Python is used to turn a method into a read-only property, so you can access it like an attribute, but still run code behind the scenes.\n",
        "\n",
        "14. Why is polymorphism important in OOP?\n",
        "  - Polymorphism is important in Object-Oriented Programming (OOP) because it enables flexibility, code reusability, and extensibility by allowing the same interface to work with different data types or classes.\n",
        "\n",
        "15.  What is an abstract class in Python?\n",
        " - n abstract class in Python is a class that cannot be instantiated directly and is meant to be a base class for other classes. It can define abstract methods that must be implemented by its subclasses.\n",
        "\n",
        "16. What are the advantages of OOP?\n",
        " - OOP helps create programs that are organized, reusable, secure, flexible, and easier to maintain, which is why it's widely used in modern software development.\n",
        "\n",
        "17. What is the difference between a class variable and an instance variable?\n",
        " - Class variable: Same for all objects.\n",
        "\n",
        "    - Instance variable: Different for each object.\n",
        "\n",
        "18. What is multiple inheritance in Python?\n",
        "  - Multiple Inheritance is a feature in Python where a class can inherit from more than one parent class. This allows the child class to access attributes and methods from multiple base classes.\n",
        "\n",
        "19. Explain the purpose of ‘’__str__’ and ‘__repr__’ ‘ methods in Python?\n",
        " -   Purpose of __str__ and __repr__ Methods in Python\n",
        "Both __str__ and __repr__ are special (dunder) methods in Python used to define how an object is represented as a string. They serve different audiences and purposes:\n",
        " -  __str__() – User-Friendly Representation\n",
        "Called by: print() and str() functions.\n",
        "\n",
        " -  Purpose: Return a readable, human-friendly description of the object.\n",
        "\n",
        "  - Goal: For end users.\n",
        "  - __repr__() – Developer-Friendly Representation\n",
        "Called by: repr(), interactive shell, and debugging tools.\n",
        "\n",
        " - Purpose: Return an unambiguous string that ideally can recreate the object.\n",
        "\n",
        " - Goal: For developers and debugging.\n",
        "\n",
        "20. What is the significance of the ‘super()’ function in Python?\n",
        " - The **super()** function in Python is used to call methods from a parent (super) class inside a child class. It plays a key role in inheritance and code reuse.\n",
        " - Key Purposes of super():\n",
        "Access parent class methods (especially constructors) from the child class.\n",
        "Avoid duplicate code by reusing functionality.\n",
        "Supports multiple inheritance using Method Resolution Order (MRO) safe\n",
        " - Especially Useful In:\n",
        " - Constructor chaining\n",
        "\n",
        " - Method overriding\n",
        "\n",
        " - Multiple inheritance (to avoid calling a method multiple times)\n",
        "\n",
        "21. What is the significance of the __del__ method in Python?\n",
        " - Significance of the __del__ Method in Python\n",
        "The __del__ method in Python is a special (dunder) method known as the destructor. It is automatically called when an object is about to be destroyed, typically when it goes out of scope or is deleted.\n",
        " -  Purpose:\n",
        "Used to clean up resources (like closing files, network connections, releasing memory) before the object is removed from memory.\n",
        "Used to clean up resources (like closing files, network connections, releasing memory) before the object is removed from memory.\n",
        "\n",
        "22. What is the difference between @staticmethod and @classmethod in Python?\n",
        " -  Difference Between @staticmethod and @classmethod in Python\n",
        "Both @staticmethod and @classmethod are decorators used to define special types of methods inside a class, but they behave differently in how they access class or instance data.\n",
        "\n",
        " - @staticmethod – Simple, Self-Contained Function\n",
        "Doesn’t need access to class or instance.\n",
        "\n",
        " - Behaves like a regular function inside a class.\n",
        "  -  @classmethod – Works with the Class (cls)\n",
        "Gets the class as the first argument.\n",
        "Can be used to access or modify class-level variables or to create alternative constructors.\n",
        "python Copy Edit\n",
        " - In Short:\n",
        "Use @staticmethod when the method doesn’t need access to the class or instance.\n",
        "Use @classmethod when the method needs to work with the class itself (like modifying class variables or creating alternative constructors)\n",
        "\n",
        "23. How does polymorphism work in Python with inheritance?\n",
        " - Polymorphism in Python with inheritance allows objects of different subclasses to be treated as objects of a common superclass, while each subclass can override methods to provide its own specific behavior\n",
        " -  Key Concepts:\n",
        "Inheritance allows child classes to inherit methods from a parent class.\n",
        "Method Overriding allows a child class to redefine a method from the parent.\n",
        "Polymorphism lets you call the same method on different objects, and Python will automatically call the correct version based on the object's class.\n",
        " - How It Works:\n",
        "All subclasses (Dog, Cat) inherit from Animal.\n",
        "They override the speak() method.\n",
        "When make_sound() is called with any subclass object, Python uses the correct method according to the object’s actual class, not just the reference type (Animal).\n",
        " - Polymorphism with inheritance in Python allows you to write flexible and reusable code that works across different object types, as long as they share a common interface or base class\n",
        "\n",
        "24. What is method chaining in Python OOP?\n",
        " - Method chaining in Python is a technique where multiple methods are called in a single line, one after another, on the same object.\n",
        "Each method returns the object itself (typically self), allowing the next method to be called directly.\n",
        "\n",
        "25.  What is the purpose of the __call__ method in Python?\n",
        " - The __call__ method in Python is a special method that allows an object to be called like a function.\n",
        "\n",
        " -  Purpose:\n",
        "To make instances of a class behave like functions.\n",
        "Enables objects to be \"callable\", i.e., use object() syntax.\n",
        "Useful for function wrappers, stateful functions, caching, etc.\n",
        "\n",
        "\n",
        "\n",
        "\n",
        "\n",
        "\n",
        "\n",
        "\n",
        "\n",
        "\n",
        "\n",
        "\n",
        "\n",
        "\n",
        "\n",
        "\n",
        "\n",
        "\n",
        "\n",
        "\n",
        "\n",
        "\n",
        "\n",
        "\n",
        "\n",
        "\n",
        "\n",
        "\n",
        "\n",
        "\n",
        "\n",
        "\n",
        "\n",
        "\n",
        "\n",
        "\n",
        "\n",
        "\n",
        "\n",
        "\n",
        "\n",
        "\n",
        "\n",
        "\n",
        "\n",
        "\n",
        "\n",
        "\n",
        "\n",
        "  \n",
        "\n",
        "\n",
        "   \n",
        "\n",
        "\n",
        "\n",
        "\n",
        "\n",
        "\n",
        "\n",
        "\n"
      ],
      "metadata": {
        "id": "3ifrNxrZJGc7"
      }
    },
    {
      "cell_type": "code",
      "source": [
        "# Create a parent class Animal with a method speak() that prints a generic message. Create a child class Dog\n",
        "#that overrides the speak() method to print \"Bark\n",
        "\n",
        "\n",
        "class Animal:\n",
        "    def speak(self):\n",
        "        print(\"The animal makes a sound\")\n",
        "\n",
        "class Dog(Animal):\n",
        "    def speak(self):\n",
        "        print(\"Bark\")\n",
        "\n"
      ],
      "metadata": {
        "id": "IpHRpT7yv2o1"
      },
      "execution_count": 1,
      "outputs": []
    },
    {
      "cell_type": "code",
      "source": [
        "#Write a program to create an abstract class Shape with a method area(). Derive classes Circle and Rectangle\n",
        "#from it and implement the area() method in both.\n",
        "from abc import ABC, abstractmethod\n",
        "import math\n",
        "\n",
        "class Shape(ABC):\n",
        "    @abstractmethod\n",
        "    def area(self):\n",
        "        pass\n",
        "\n",
        "class Circle(Shape):\n",
        "    def __init__(self, radius):\n",
        "        self.radius = radius\n",
        "\n",
        "    def area(self):\n",
        "        return math.pi * self.radius ** 2\n",
        "\n",
        "class Rectangle(Shape):\n",
        "    def __init__(self, length, width):\n",
        "        self.length = length\n",
        "        self.width = width\n",
        "\n",
        "    def area(self):\n",
        "        return self.length * self.width\n",
        "\n",
        "\n"
      ],
      "metadata": {
        "id": "lO2MxwUswcmP"
      },
      "execution_count": 3,
      "outputs": []
    },
    {
      "cell_type": "code",
      "source": [
        "#Implement a multi-level inheritance scenario where a class Vehicle has an attribute type. Derive a class Car\n",
        "#and further derive a class ElectricCar that adds a battery attribute.\n",
        "# Base class\n",
        "class Vehicle:\n",
        "    def __init__(self, vehicle_type):\n",
        "        self.vehicle_type = vehicle_type\n",
        "\n",
        "    def display_type(self):\n",
        "        print(f\"Vehicle type: {self.vehicle_type}\")\n",
        "\n",
        "class Car(Vehicle):\n",
        "    def __init__(self, vehicle_type, brand):\n",
        "        super().__init__(vehicle_type)\n",
        "        self.brand = brand\n",
        "\n",
        "    def display_brand(self):\n",
        "        print(f\"Brand: {self.brand}\")\n",
        "\n",
        "class ElectricCar(Car):\n",
        "    def __init__(self, vehicle_type, brand, battery_capacity):\n",
        "        super().__init__(vehicle_type, brand)\n",
        "        self.battery_capacity = battery_capacity\n",
        "\n",
        "    def display_battery(self):\n",
        "        print(f\"Battery capacity: {self.battery_capacity} kWh\")\n",
        "\n"
      ],
      "metadata": {
        "id": "sB-F97W2xPTa"
      },
      "execution_count": 4,
      "outputs": []
    },
    {
      "cell_type": "code",
      "source": [
        "#4. Demonstrate polymorphism by creating a base class Bird with a method fly(). Create two derived classes\n",
        "#Sparrow and Penguin that override the fly() method.\n",
        "\n",
        "# Base class\n",
        "class Bird:\n",
        "    def fly(self):\n",
        "        print(\"Some birds can fly.\")\n",
        "\n",
        "class Sparrow(Bird):\n",
        "    def fly(self):\n",
        "        print(\"Sparrow flies high in the sky.\")\n",
        "\n",
        "class Penguin(Bird):\n",
        "    def fly(self):\n",
        "        print(\"Penguins can't fly, but they swim well.\")\n",
        "\n",
        "def show_flying_ability(bird):\n",
        "    bird.fly()\n",
        "\n",
        "sparrow = Sparrow()\n",
        "penguin = Penguin()\n",
        "\n",
        "show_flying_ability(sparrow)\n",
        "show_flying_ability(penguin)\n",
        "\n"
      ],
      "metadata": {
        "colab": {
          "base_uri": "https://localhost:8080/"
        },
        "id": "ErauhRlsxvra",
        "outputId": "782d68ea-44ed-451d-a1f8-183dd594830b"
      },
      "execution_count": 12,
      "outputs": [
        {
          "output_type": "stream",
          "name": "stdout",
          "text": [
            "Sparrow flies high in the sky.\n",
            "Penguins can't fly, but they swim well.\n"
          ]
        }
      ]
    },
    {
      "cell_type": "code",
      "source": [
        "# Write a program to demonstrate encapsulation by creating a class BankAccount with private attributes\n",
        "#balance and methods to deposit, withdraw, and check balance\n",
        "class BankAccount:\n",
        "    def __init__(self, initial_balance=0):\n",
        "        self.__balance = initial_balance  # Private attribute\n",
        "\n",
        "    def deposit(self, amount):\n",
        "        if amount > 0:\n",
        "            self.__balance += amount\n",
        "            print(f\"Deposited: ₹{amount}\")\n",
        "        else:\n",
        "            print(\"Invalid deposit amount\")\n",
        "\n",
        "    def withdraw(self, amount):\n",
        "        if 0 < amount <= self.__balance:\n",
        "            self.__balance -= amount\n",
        "            print(f\"Withdrawn: ₹{amount}\")\n",
        "        else:\n",
        "            print(\"Insufficient balance or invalid amount.\")\n",
        "\n",
        "    def check_balance(self):\n",
        "        print(f\"Current balance: ₹{self.__balance}\")\n",
        "\n"
      ],
      "metadata": {
        "id": "92e2EetOyYtR"
      },
      "execution_count": 8,
      "outputs": []
    },
    {
      "cell_type": "code",
      "source": [
        "#Demonstrate runtime polymorphism using a method play() in a base class Instrument. Derive classes Guitar\n",
        "#and Piano that implement their own version of play()\n",
        "# Base class\n",
        "class Instrument:\n",
        "    def play(self):\n",
        "        print(\"Instrument is being played.\")\n",
        "\n",
        "class Guitar(Instrument):\n",
        "    def play(self):\n",
        "        print(\"Playing the guitar \")\n",
        "\n",
        "class Piano(Instrument):\n",
        "    def play(self):\n",
        "        print(\"Playing the piano \")\n",
        "\n",
        "def start_playing(instrument):\n",
        "    instrument.play()\n",
        "\n",
        "guitar = Guitar()\n",
        "piano = Piano()\n",
        "\n",
        "start_playing(guitar)\n",
        "start_playing(piano)\n"
      ],
      "metadata": {
        "colab": {
          "base_uri": "https://localhost:8080/"
        },
        "id": "I75-MMz90ohg",
        "outputId": "d5743245-5b5c-4781-c0fe-faf98116d4b5"
      },
      "execution_count": 14,
      "outputs": [
        {
          "output_type": "stream",
          "name": "stdout",
          "text": [
            "Playing the guitar \n",
            "Playing the piano \n"
          ]
        }
      ]
    },
    {
      "cell_type": "code",
      "source": [
        "# Create a class MathOperations with a class method add_numbers() to add two numbers and a static\n",
        "#method subtract_numbers() to subtract two numbers.\n",
        "class MathOperations:\n",
        "    @classmethod\n",
        "    def add_numbers(cls, a, b):\n",
        "        return a + b\n",
        "\n",
        "    @staticmethod\n",
        "    def subtract_numbers(a, b):\n",
        "        return a - b\n",
        "\n",
        "sum_result = MathOperations.add_numbers(10, 5)\n",
        "sub_result = MathOperations.subtract_numbers(10, 5)\n",
        "\n",
        "print(\"Addition:\", sum_result)\n",
        "print(\"Subtraction:\", sub_result)\n"
      ],
      "metadata": {
        "colab": {
          "base_uri": "https://localhost:8080/"
        },
        "id": "HZd0JruO1fwR",
        "outputId": "b5ed9b32-6c03-41b6-cdeb-47baebaa334e"
      },
      "execution_count": 15,
      "outputs": [
        {
          "output_type": "stream",
          "name": "stdout",
          "text": [
            "Addition: 15\n",
            "Subtraction: 5\n"
          ]
        }
      ]
    },
    {
      "cell_type": "code",
      "source": [
        "# Implement a class Person with a class method to count the total number of persons created\n",
        "class Person:\n",
        "    count = 0  # Class variable to keep track of number of persons\n",
        "\n",
        "    def __init__(self, name):\n",
        "        self.name = name\n",
        "        Person.count += 1  # Increment count every time a Person is created\n",
        "\n",
        "    @classmethod\n",
        "    def total_persons(cls):\n",
        "        print(f\"Total persons created: {cls.count}\")\n",
        "\n",
        "# Creating objects\n",
        "p1 = Person(\"Alice\")\n",
        "p2 = Person(\"Bob\")\n",
        "p3 = Person(\"Charlie\")\n",
        "\n",
        "# Display total number of persons\n",
        "Person.total_persons()\n"
      ],
      "metadata": {
        "colab": {
          "base_uri": "https://localhost:8080/"
        },
        "id": "S8ZQ6Js3114L",
        "outputId": "8c92dd87-4a34-4507-884e-45d2d77530f0"
      },
      "execution_count": 16,
      "outputs": [
        {
          "output_type": "stream",
          "name": "stdout",
          "text": [
            "Total persons created: 3\n"
          ]
        }
      ]
    },
    {
      "cell_type": "code",
      "source": [
        "# Write a class Fraction with attributes numerator and denominator. Override the str method to display the\n",
        "#fraction as \"numerator/denominator\".\n",
        "class Fraction:\n",
        "    def __init__(self, numerator, denominator):\n",
        "        self.numerator = numerator\n",
        "        self.denominator = denominator\n",
        "\n",
        "    def __str__(self):\n",
        "        return f\"{self.numerator}/{self.denominator}\"\n",
        "\n",
        "f1 = Fraction(3, 4)\n",
        "print(f1)\n"
      ],
      "metadata": {
        "colab": {
          "base_uri": "https://localhost:8080/"
        },
        "id": "7OqWtgsR2Ho9",
        "outputId": "c313e4d0-72f8-4681-978f-ed0cb5c6fc30"
      },
      "execution_count": 17,
      "outputs": [
        {
          "output_type": "stream",
          "name": "stdout",
          "text": [
            "3/4\n"
          ]
        }
      ]
    },
    {
      "cell_type": "code",
      "source": [
        "# Demonstrate operator overloading by creating a class Vector and overriding the add method to add two vectors\n",
        "class Vector:\n",
        "    def __init__(self, x, y):\n",
        "        self.x = x\n",
        "        self.y = y\n",
        "\n",
        "    def __add__(self, other):\n",
        "        return Vector(self.x + other.x, self.y + other.y)\n",
        "\n",
        "    def __str__(self):\n",
        "        return f\"({self.x}, {self.y})\"\n",
        "\n",
        "v1 = Vector(2, 3)\n",
        "v2 = Vector(4, 5)\n",
        "\n",
        "v3 = v1 + v2  # This calls v1.__add__(v2)\n",
        "\n",
        "print(\"v1:\", v1)\n",
        "print(\"v2:\", v2)\n",
        "print(\"v1 + v2:\", v3)\n"
      ],
      "metadata": {
        "colab": {
          "base_uri": "https://localhost:8080/"
        },
        "id": "vKqKEyhm2x4c",
        "outputId": "83fa0229-25e6-44b5-c970-546a7d6ab092"
      },
      "execution_count": 19,
      "outputs": [
        {
          "output_type": "stream",
          "name": "stdout",
          "text": [
            "v1: (2, 3)\n",
            "v2: (4, 5)\n",
            "v1 + v2: (6, 8)\n"
          ]
        }
      ]
    },
    {
      "cell_type": "code",
      "source": [
        "# Create a class Person with attributes name and age. Add a method greet() that prints \"Hello, my name is {name} and I am {age} years old.\"\n",
        "class Person:\n",
        "    def __init__(self, name, age):\n",
        "        self.name = name\n",
        "        self.age = age\n",
        "\n",
        "    def greet(self):\n",
        "        print(f\"Hello, my name is {self.name} and I am {self.age} years old.\")\n",
        "\n",
        "p1 = Person(\"Alice\", 25)\n",
        "p1.greet()\n"
      ],
      "metadata": {
        "colab": {
          "base_uri": "https://localhost:8080/"
        },
        "id": "w9z8wG2A3LqL",
        "outputId": "4053b1a2-86f0-4631-8a07-fa4d6ab6c178"
      },
      "execution_count": 20,
      "outputs": [
        {
          "output_type": "stream",
          "name": "stdout",
          "text": [
            "Hello, my name is Alice and I am 25 years old.\n"
          ]
        }
      ]
    },
    {
      "cell_type": "code",
      "source": [
        "# Implement a class Student with attributes name and grades. Create a method average_grade() to compute\n",
        "#the average of the grades.\n",
        "class Student:\n",
        "    def __init__(self, name, grades):\n",
        "        self.name = name\n",
        "        self.grades = grades  # Expecting a list of grades\n",
        "\n",
        "    def average_grade(self):\n",
        "        if self.grades:\n",
        "            return sum(self.grades) / len(self.grades)\n",
        "        else:\n",
        "            return 0  # Avoid division by zero\n",
        "\n",
        "# Creating a Student object\n",
        "s1 = Student(\"John\", [85, 90, 78, 92])\n",
        "\n",
        "# Display average grade\n",
        "print(f\"{s1.name}'s average grade is: {s1.average_grade():.2f}\")\n"
      ],
      "metadata": {
        "colab": {
          "base_uri": "https://localhost:8080/"
        },
        "id": "x4ei5vmm33EI",
        "outputId": "f3002549-a78e-4c49-d89d-1bba84238619"
      },
      "execution_count": 21,
      "outputs": [
        {
          "output_type": "stream",
          "name": "stdout",
          "text": [
            "John's average grade is: 86.25\n"
          ]
        }
      ]
    },
    {
      "cell_type": "code",
      "source": [
        "#. Create a class Rectangle with methods set_dimensions() to set the dimensions and area() to calculate the area\n",
        "class Rectangle:\n",
        "    def __init__(self):\n",
        "        self.length = 0\n",
        "        self.width = 0\n",
        "\n",
        "    def set_dimensions(self, length, width):\n",
        "        self.length = length\n",
        "        self.width = width\n",
        "\n",
        "    def area(self):\n",
        "        return self.length * self.width\n",
        "\n",
        "# Using the class\n",
        "rect = Rectangle()\n",
        "rect.set_dimensions(5, 3)\n",
        "print(\"Area of rectangle:\", rect.area())\n"
      ],
      "metadata": {
        "colab": {
          "base_uri": "https://localhost:8080/"
        },
        "id": "cWLirYEX5bsh",
        "outputId": "1ddba824-253a-4af8-aaea-a51fa5595af0"
      },
      "execution_count": 22,
      "outputs": [
        {
          "output_type": "stream",
          "name": "stdout",
          "text": [
            "Area of rectangle: 15\n"
          ]
        }
      ]
    },
    {
      "cell_type": "code",
      "source": [
        "# Create a class Employee with a method calculate_salary() that computes the salary based on hours worked\n",
        "#and hourly rate. Create a derived class Manager that adds a bonus to the salary\n",
        "# Base class\n",
        "class Employee:\n",
        "    def __init__(self, name, hours_worked, hourly_rate):\n",
        "        self.name = name\n",
        "        self.hours_worked = hours_worked\n",
        "        self.hourly_rate = hourly_rate\n",
        "\n",
        "    def calculate_salary(self):\n",
        "        return self.hours_worked * self.hourly_rate\n",
        "\n",
        "class Manager(Employee):\n",
        "    def __init__(self, name, hours_worked, hourly_rate, bonus):\n",
        "        super().__init__(name, hours_worked, hourly_rate)\n",
        "        self.bonus = bonus\n",
        "\n",
        "    def calculate_salary(self):\n",
        "        base_salary = super().calculate_salary()\n",
        "        return base_salary + self.bonus\n",
        "\n",
        "emp = Employee(\"John\", 40, 20)\n",
        "print(f\"{emp.name}'s Salary: ₹{emp.calculate_salary()}\")\n",
        "\n",
        "mgr = Manager(\"Alice\", 40, 30, 5000)\n",
        "print(f\"{mgr.name}'s Salary: ₹{mgr.calculate_salary()}\")\n",
        "\n"
      ],
      "metadata": {
        "colab": {
          "base_uri": "https://localhost:8080/"
        },
        "id": "071hXM7w63w2",
        "outputId": "ea805772-5a90-4317-d4aa-201d58e599db"
      },
      "execution_count": 23,
      "outputs": [
        {
          "output_type": "stream",
          "name": "stdout",
          "text": [
            "John's Salary: ₹800\n",
            "Alice's Salary: ₹6200\n"
          ]
        }
      ]
    },
    {
      "cell_type": "code",
      "source": [
        "#. Create a class Product with attributes name, price, and quantity. Implement a method total_price() that\n",
        "#calculates the total price of the product.\n",
        "class Product:\n",
        "    def __init__(self, name, price, quantity):\n",
        "        self.name = name\n",
        "        self.price = price\n",
        "        self.quantity = quantity\n",
        "\n",
        "    def total_price(self):\n",
        "        return self.price * self.quantity\n",
        "\n",
        "p1 = Product(\"Laptop\", 50000, 2)\n",
        "print(f\"Total price for {p1.name}: ₹{p1.total_price()}\")\n",
        "\n"
      ],
      "metadata": {
        "colab": {
          "base_uri": "https://localhost:8080/"
        },
        "id": "o1xZWSWc7Xpe",
        "outputId": "cbee8bd9-08d1-4d8b-f96e-5503ab726586"
      },
      "execution_count": 24,
      "outputs": [
        {
          "output_type": "stream",
          "name": "stdout",
          "text": [
            "Total price for Laptop: ₹100000\n"
          ]
        }
      ]
    },
    {
      "cell_type": "code",
      "source": [
        "# Create a class Animal with an abstract method sound(). Create two derived classes Cow and Sheep that\n",
        "#implement the sound() method.\n",
        "from abc import ABC, abstractmethod\n",
        "\n",
        "class Animal(ABC):\n",
        "    @abstractmethod\n",
        "    def sound(self):\n",
        "        pass\n",
        "\n",
        "class Cow(Animal):\n",
        "    def sound(self):\n",
        "        print(\"Cow says Moo\")\n",
        "\n",
        "class Sheep(Animal):\n",
        "    def sound(self):\n",
        "        print(\"Sheep says Baa\")\n",
        "\n",
        "c = Cow()\n",
        "s = Sheep()\n",
        "\n",
        "c.sound()\n",
        "s.sound()\n"
      ],
      "metadata": {
        "colab": {
          "base_uri": "https://localhost:8080/"
        },
        "id": "WosLtoLu7vL0",
        "outputId": "b4983bfc-09fd-4b4b-9127-c8fa7c63a3e1"
      },
      "execution_count": 25,
      "outputs": [
        {
          "output_type": "stream",
          "name": "stdout",
          "text": [
            "Cow says Moo\n",
            "Sheep says Baa\n"
          ]
        }
      ]
    },
    {
      "cell_type": "code",
      "source": [
        "#Create a class Book with attributes title, author, and year_published. Add a method get_book_info() that\n",
        "#returns a formatted string with the book's details.\n",
        "class Book:\n",
        "    def __init__(self, title, author, year_published):\n",
        "        self.title = title\n",
        "        self.author = author\n",
        "        self.year_published = year_published\n",
        "\n",
        "    def get_book_info(self):\n",
        "        return f\"'{self.title}' by {self.author} (Published in {self.year_published})\"\n",
        "\n",
        "book1 = Book(\"To Kill a Mockingbird\", \"Harper Lee\", 1960)\n",
        "print(book1.get_book_info())\n",
        "\n",
        "\n",
        "\n",
        "\n"
      ],
      "metadata": {
        "colab": {
          "base_uri": "https://localhost:8080/"
        },
        "id": "ZoPQ9Ndj8Gjt",
        "outputId": "7435bb61-d48b-41aa-b806-eb54e98f5b02"
      },
      "execution_count": 26,
      "outputs": [
        {
          "output_type": "stream",
          "name": "stdout",
          "text": [
            "'To Kill a Mockingbird' by Harper Lee (Published in 1960)\n"
          ]
        }
      ]
    },
    {
      "cell_type": "code",
      "source": [
        "# Create a class House with attributes address and price. Create a derived class Mansion that adds an\n",
        "#attribute number_of_rooms.\n",
        "# Base class\n",
        "class House:\n",
        "    def __init__(self, address, price):\n",
        "        self.address = address\n",
        "        self.price = price\n",
        "\n",
        "    def display_info(self):\n",
        "        print(f\"Address: {self.address}\")\n",
        "        print(f\"Price: ₹{self.price}\")\n",
        "\n",
        "class Mansion(House):\n",
        "    def __init__(self, address, price, number_of_rooms):\n",
        "        super().__init__(address, price)\n",
        "        self.number_of_rooms = number_of_rooms\n",
        "\n",
        "    def display_info(self):\n",
        "        super().display_info()\n",
        "        print(f\"Number of Rooms: {self.number_of_rooms}\")\n",
        "\n",
        "m1 = Mansion(\"123 Palace Road\", 50000000, 12)\n",
        "m1.display_info()\n"
      ],
      "metadata": {
        "colab": {
          "base_uri": "https://localhost:8080/"
        },
        "id": "RMrMcL-e8f2Q",
        "outputId": "5d14b089-089c-4fad-b243-8bed4f24003b"
      },
      "execution_count": 27,
      "outputs": [
        {
          "output_type": "stream",
          "name": "stdout",
          "text": [
            "Address: 123 Palace Road\n",
            "Price: ₹50000000\n",
            "Number of Rooms: 12\n"
          ]
        }
      ]
    }
  ]
}